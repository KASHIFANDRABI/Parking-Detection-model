{
 "cells": [
  {
   "cell_type": "code",
   "execution_count": 1,
   "id": "87cdc461-b202-4dcd-aa80-52b42255242e",
   "metadata": {},
   "outputs": [],
   "source": [
    "import cv2\n",
    "import numpy as np\n",
    "import yaml\n",
    "from yaml.loader import SafeLoader\n"
   ]
  },
  {
   "cell_type": "code",
   "execution_count": 2,
   "id": "8ee4bf6c-31f4-4902-856e-f6790fc5b010",
   "metadata": {},
   "outputs": [
    {
     "name": "stdout",
     "output_type": "stream",
     "text": [
      "['Car', 'Vacant', 'parking_spot']\n"
     ]
    }
   ],
   "source": [
    "# Load YAML\n",
    "with open('data.yaml', mode='r') as f:\n",
    "    data_yaml = yaml.load(f, Loader=SafeLoader)\n",
    "labels = data_yaml['names']\n",
    "print(labels)\n",
    "\n"
   ]
  },
  {
   "cell_type": "code",
   "execution_count": 3,
   "id": "086861fb-4a35-4d28-86fd-043377fb6d15",
   "metadata": {},
   "outputs": [],
   "source": [
    "# Load YOLO model\n",
    "yolo = cv2.dnn.readNetFromONNX('./Model/weights/best.onnx')\n",
    "yolo.setPreferableBackend(cv2.dnn.DNN_BACKEND_OPENCV)\n",
    "yolo.setPreferableTarget(cv2.dnn.DNN_TARGET_CPU)\n",
    "\n",
    "# Load the image\n",
    "img = cv2.imread('./Image_test_02.jpeg')\n",
    "image = img.copy()\n",
    "row, col, d = image.shape"
   ]
  },
  {
   "cell_type": "code",
   "execution_count": 4,
   "id": "8af4c2cc-2708-4fe4-8980-57dbaf666d12",
   "metadata": {},
   "outputs": [],
   "source": [
    "# Convert image into square image (array)\n",
    "max_rc = max(row, col)\n",
    "input_image = np.zeros((max_rc, max_rc, 3), dtype=np.uint8)\n",
    "input_image[0:row, 0:col] = image\n",
    "\n",
    "# Resize the input image to the expected input size for YOLO\n",
    "INPUT_WH_YOLO = 640  # Use the appropriate input size for your model\n",
    "input_image_resized = cv2.resize(input_image, (INPUT_WH_YOLO, INPUT_WH_YOLO))\n",
    "\n",
    "# Create blob\n",
    "blob = cv2.dnn.blobFromImage(input_image_resized, 1 / 255.0, (INPUT_WH_YOLO, INPUT_WH_YOLO), swapRB=True, crop=False)\n"
   ]
  },
  {
   "cell_type": "code",
   "execution_count": 5,
   "id": "1e4d577e-acdc-44c4-8309-666e0b99e4ca",
   "metadata": {},
   "outputs": [],
   "source": [
    "# Set input and perform prediction\n",
    "yolo.setInput(blob)\n",
    "preds = yolo.forward()  # Perform detection or prediction from YOLO\n",
    "\n",
    "# Non-Maximum Suppression\n",
    "# Step-1: Filter detection based on confidence (0.4) and probability score (0.25)\n",
    "detections = preds[0]\n",
    "boxes = []\n",
    "confidences = []\n",
    "classes = []\n",
    "\n",
    "# Width and height of the image (input_image)\n",
    "image_w, image_h = input_image.shape[:2]\n",
    "x_factor = image_w / INPUT_WH_YOLO\n",
    "y_factor = image_h / INPUT_WH_YOLO\n",
    "\n",
    "for i in range(len(detections)):\n",
    "    row = detections[i]\n",
    "    confidence = row[4]  # Confidence of detection an object\n",
    "    if confidence > 0.4:\n",
    "        class_score = row[5:].max()  # Maximum probability from the classes\n",
    "        class_id = row[5:].argmax()  # Get the index position at which max probability occurs\n",
    "\n",
    "        if class_score > 0.25:\n",
    "            cx, cy, w, h = row[0:4]\n",
    "            # Construct bounding from four values\n",
    "            # Left, top, width, and height\n",
    "            left = int((cx - 0.5 * w) * x_factor)\n",
    "            top = int((cy - 0.5 * h) * y_factor)\n",
    "            width = int(w * x_factor)\n",
    "            height = int(h * y_factor)\n",
    "\n",
    "            box = np.array([left, top, width, height])\n",
    "\n",
    "            # Append values into the list\n",
    "            confidences.append(confidence)\n",
    "            boxes.append(box)\n",
    "            classes.append(class_id)\n"
   ]
  },
  {
   "cell_type": "code",
   "execution_count": 6,
   "id": "b4c7e8ce-1bdf-4d93-865c-828fe90020b9",
   "metadata": {},
   "outputs": [],
   "source": [
    "# Clean\n",
    "boxes_np = np.array(boxes).tolist()\n",
    "confidences_np = np.array(confidences).tolist()\n",
    "\n",
    "# NMS\n",
    "index = cv2.dnn.NMSBoxes(boxes_np, confidences_np, 0.25, 0.45).flatten()\n",
    "\n",
    "# Draw the Bounding Boxes\n",
    "for ind in index:\n",
    "    # Extract bounding box\n",
    "    x, y, w, h = boxes_np[ind]\n",
    "    bb_conf = int(confidences_np[ind] * 100)\n",
    "    classes_id = classes[ind]\n",
    "    class_name = labels[classes_id]\n",
    "\n",
    "    text = f'{class_name}: {bb_conf}%'\n",
    "\n",
    "    cv2.rectangle(image, (x, y), (x + w, y + h), (0, 255, 0), 2)\n",
    "    cv2.rectangle(image, (x, y - 30), (x + w, y), (255, 255, 255), -1)\n",
    "\n",
    "    cv2.putText(image, text, (x, y - 10), cv2.FONT_HERSHEY_PLAIN, 0.7, (0, 0, 0), 1)\n",
    "\n",
    "\n"
   ]
  },
  {
   "cell_type": "code",
   "execution_count": 7,
   "id": "a334db94-292c-46d1-ab80-e218de7e7fbb",
   "metadata": {},
   "outputs": [],
   "source": [
    "# Display results\n",
    "cv2.imshow('Original', img)\n",
    "cv2.imshow('YOLO Prediction', image)\n",
    "cv2.waitKey(0)\n",
    "cv2.destroyAllWindows()"
   ]
  },
  {
   "cell_type": "code",
   "execution_count": null,
   "id": "2b91abb1-3584-4b15-a857-cbd68eb60d25",
   "metadata": {},
   "outputs": [],
   "source": []
  },
  {
   "cell_type": "code",
   "execution_count": null,
   "id": "2dceb7e5-5f3b-4099-916a-ee1532413896",
   "metadata": {},
   "outputs": [],
   "source": []
  }
 ],
 "metadata": {
  "kernelspec": {
   "display_name": "Python 3 (ipykernel)",
   "language": "python",
   "name": "python3"
  },
  "language_info": {
   "codemirror_mode": {
    "name": "ipython",
    "version": 3
   },
   "file_extension": ".py",
   "mimetype": "text/x-python",
   "name": "python",
   "nbconvert_exporter": "python",
   "pygments_lexer": "ipython3",
   "version": "3.12.6"
  }
 },
 "nbformat": 4,
 "nbformat_minor": 5
}
